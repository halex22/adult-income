{
 "cells": [
  {
   "cell_type": "code",
   "execution_count": 1,
   "id": "b0001824-4a7d-46c1-9458-93e9aeac40d4",
   "metadata": {},
   "outputs": [],
   "source": [
    "import pandas as pd\n",
    "import numpy as np\n",
    "import xgboost as xgb\n",
    "from sklearn.model_selection import train_test_split, GridSearchCV\n",
    "from sklearn.preprocessing import LabelEncoder, StandardScaler\n",
    "from imblearn.over_sampling import SMOTE, RandomOverSampler\n",
    "from imblearn.under_sampling import RandomUnderSampler"
   ]
  },
  {
   "cell_type": "code",
   "execution_count": 2,
   "id": "fe492a6d-4631-4a6b-828c-73dc98b334c0",
   "metadata": {
    "tags": []
   },
   "outputs": [
    {
     "data": {
      "text/html": [
       "<div>\n",
       "<style scoped>\n",
       "    .dataframe tbody tr th:only-of-type {\n",
       "        vertical-align: middle;\n",
       "    }\n",
       "\n",
       "    .dataframe tbody tr th {\n",
       "        vertical-align: top;\n",
       "    }\n",
       "\n",
       "    .dataframe thead th {\n",
       "        text-align: right;\n",
       "    }\n",
       "</style>\n",
       "<table border=\"1\" class=\"dataframe\">\n",
       "  <thead>\n",
       "    <tr style=\"text-align: right;\">\n",
       "      <th></th>\n",
       "      <th>age</th>\n",
       "      <th>workclass</th>\n",
       "      <th>fnlwgt</th>\n",
       "      <th>education</th>\n",
       "      <th>education_num</th>\n",
       "      <th>marital_status</th>\n",
       "      <th>occupation</th>\n",
       "      <th>relationship</th>\n",
       "      <th>race</th>\n",
       "      <th>sex</th>\n",
       "      <th>capital_gain</th>\n",
       "      <th>capital_loss</th>\n",
       "      <th>hours_per_week</th>\n",
       "      <th>native_country</th>\n",
       "      <th>income</th>\n",
       "    </tr>\n",
       "  </thead>\n",
       "  <tbody>\n",
       "    <tr>\n",
       "      <th>0</th>\n",
       "      <td>90</td>\n",
       "      <td>Unknown</td>\n",
       "      <td>77053</td>\n",
       "      <td>HS_grad</td>\n",
       "      <td>9</td>\n",
       "      <td>Widowed</td>\n",
       "      <td>Unknown</td>\n",
       "      <td>Not_in_family</td>\n",
       "      <td>White</td>\n",
       "      <td>Female</td>\n",
       "      <td>0</td>\n",
       "      <td>4356</td>\n",
       "      <td>40</td>\n",
       "      <td>United_States</td>\n",
       "      <td>0</td>\n",
       "    </tr>\n",
       "    <tr>\n",
       "      <th>1</th>\n",
       "      <td>82</td>\n",
       "      <td>Private</td>\n",
       "      <td>132870</td>\n",
       "      <td>HS_grad</td>\n",
       "      <td>9</td>\n",
       "      <td>Widowed</td>\n",
       "      <td>Exec_managerial</td>\n",
       "      <td>Not_in_family</td>\n",
       "      <td>White</td>\n",
       "      <td>Female</td>\n",
       "      <td>0</td>\n",
       "      <td>4356</td>\n",
       "      <td>18</td>\n",
       "      <td>United_States</td>\n",
       "      <td>0</td>\n",
       "    </tr>\n",
       "    <tr>\n",
       "      <th>2</th>\n",
       "      <td>66</td>\n",
       "      <td>Unknown</td>\n",
       "      <td>186061</td>\n",
       "      <td>Some_college</td>\n",
       "      <td>10</td>\n",
       "      <td>Widowed</td>\n",
       "      <td>Unknown</td>\n",
       "      <td>Unmarried</td>\n",
       "      <td>Black</td>\n",
       "      <td>Female</td>\n",
       "      <td>0</td>\n",
       "      <td>4356</td>\n",
       "      <td>40</td>\n",
       "      <td>United_States</td>\n",
       "      <td>0</td>\n",
       "    </tr>\n",
       "    <tr>\n",
       "      <th>3</th>\n",
       "      <td>54</td>\n",
       "      <td>Private</td>\n",
       "      <td>140359</td>\n",
       "      <td>7th_8th</td>\n",
       "      <td>4</td>\n",
       "      <td>Divorced</td>\n",
       "      <td>Machine_op_inspct</td>\n",
       "      <td>Unmarried</td>\n",
       "      <td>White</td>\n",
       "      <td>Female</td>\n",
       "      <td>0</td>\n",
       "      <td>3900</td>\n",
       "      <td>40</td>\n",
       "      <td>United_States</td>\n",
       "      <td>0</td>\n",
       "    </tr>\n",
       "    <tr>\n",
       "      <th>4</th>\n",
       "      <td>41</td>\n",
       "      <td>Private</td>\n",
       "      <td>264663</td>\n",
       "      <td>Some_college</td>\n",
       "      <td>10</td>\n",
       "      <td>Separated</td>\n",
       "      <td>Prof_specialty</td>\n",
       "      <td>Own_child</td>\n",
       "      <td>White</td>\n",
       "      <td>Female</td>\n",
       "      <td>0</td>\n",
       "      <td>3900</td>\n",
       "      <td>40</td>\n",
       "      <td>United_States</td>\n",
       "      <td>0</td>\n",
       "    </tr>\n",
       "  </tbody>\n",
       "</table>\n",
       "</div>"
      ],
      "text/plain": [
       "   age workclass  fnlwgt     education  education_num marital_status  \\\n",
       "0   90   Unknown   77053       HS_grad              9        Widowed   \n",
       "1   82   Private  132870       HS_grad              9        Widowed   \n",
       "2   66   Unknown  186061  Some_college             10        Widowed   \n",
       "3   54   Private  140359       7th_8th              4       Divorced   \n",
       "4   41   Private  264663  Some_college             10      Separated   \n",
       "\n",
       "          occupation   relationship   race     sex  capital_gain  \\\n",
       "0            Unknown  Not_in_family  White  Female             0   \n",
       "1    Exec_managerial  Not_in_family  White  Female             0   \n",
       "2            Unknown      Unmarried  Black  Female             0   \n",
       "3  Machine_op_inspct      Unmarried  White  Female             0   \n",
       "4     Prof_specialty      Own_child  White  Female             0   \n",
       "\n",
       "   capital_loss  hours_per_week native_country  income  \n",
       "0          4356              40  United_States       0  \n",
       "1          4356              18  United_States       0  \n",
       "2          4356              40  United_States       0  \n",
       "3          3900              40  United_States       0  \n",
       "4          3900              40  United_States       0  "
      ]
     },
     "execution_count": 2,
     "metadata": {},
     "output_type": "execute_result"
    }
   ],
   "source": [
    "df = pd.read_csv('adult.csv')\n",
    "df.replace('?','Unknown', inplace = True)\n",
    "df.replace('-','_', regex= True, inplace= True)\n",
    "df.columns = df.columns.str.replace('.','_', regex = True)\n",
    "encoder = LabelEncoder()\n",
    "df.income = encoder.fit_transform(df.income)\n",
    "df.head()"
   ]
  },
  {
   "cell_type": "code",
   "execution_count": 3,
   "id": "861c6a8e-1481-4c21-8a0c-818527ebfe66",
   "metadata": {},
   "outputs": [],
   "source": [
    "X = df.drop('income', axis = 1).copy()\n",
    "y = df['income'].copy()"
   ]
  },
  {
   "cell_type": "code",
   "execution_count": 4,
   "id": "b1b94b60-e553-465d-bef5-b101f5cd445a",
   "metadata": {},
   "outputs": [
    {
     "data": {
      "text/html": [
       "<div>\n",
       "<style scoped>\n",
       "    .dataframe tbody tr th:only-of-type {\n",
       "        vertical-align: middle;\n",
       "    }\n",
       "\n",
       "    .dataframe tbody tr th {\n",
       "        vertical-align: top;\n",
       "    }\n",
       "\n",
       "    .dataframe thead th {\n",
       "        text-align: right;\n",
       "    }\n",
       "</style>\n",
       "<table border=\"1\" class=\"dataframe\">\n",
       "  <thead>\n",
       "    <tr style=\"text-align: right;\">\n",
       "      <th></th>\n",
       "      <th>workclass</th>\n",
       "      <th>education</th>\n",
       "      <th>marital_status</th>\n",
       "      <th>occupation</th>\n",
       "      <th>relationship</th>\n",
       "      <th>race</th>\n",
       "      <th>sex</th>\n",
       "      <th>native_country</th>\n",
       "      <th>age</th>\n",
       "      <th>fnlwgt</th>\n",
       "      <th>education_num</th>\n",
       "      <th>capital_gain</th>\n",
       "      <th>capital_loss</th>\n",
       "      <th>hours_per_week</th>\n",
       "    </tr>\n",
       "  </thead>\n",
       "  <tbody>\n",
       "    <tr>\n",
       "      <th>0</th>\n",
       "      <td>Unknown</td>\n",
       "      <td>HS_grad</td>\n",
       "      <td>Widowed</td>\n",
       "      <td>Unknown</td>\n",
       "      <td>Not_in_family</td>\n",
       "      <td>White</td>\n",
       "      <td>Female</td>\n",
       "      <td>United_States</td>\n",
       "      <td>NaN</td>\n",
       "      <td>NaN</td>\n",
       "      <td>NaN</td>\n",
       "      <td>NaN</td>\n",
       "      <td>NaN</td>\n",
       "      <td>NaN</td>\n",
       "    </tr>\n",
       "    <tr>\n",
       "      <th>1</th>\n",
       "      <td>Private</td>\n",
       "      <td>NaN</td>\n",
       "      <td>NaN</td>\n",
       "      <td>Exec_managerial</td>\n",
       "      <td>NaN</td>\n",
       "      <td>NaN</td>\n",
       "      <td>NaN</td>\n",
       "      <td>NaN</td>\n",
       "      <td>NaN</td>\n",
       "      <td>NaN</td>\n",
       "      <td>NaN</td>\n",
       "      <td>NaN</td>\n",
       "      <td>NaN</td>\n",
       "      <td>NaN</td>\n",
       "    </tr>\n",
       "    <tr>\n",
       "      <th>2</th>\n",
       "      <td>NaN</td>\n",
       "      <td>Some_college</td>\n",
       "      <td>NaN</td>\n",
       "      <td>NaN</td>\n",
       "      <td>Unmarried</td>\n",
       "      <td>Black</td>\n",
       "      <td>NaN</td>\n",
       "      <td>NaN</td>\n",
       "      <td>NaN</td>\n",
       "      <td>NaN</td>\n",
       "      <td>NaN</td>\n",
       "      <td>NaN</td>\n",
       "      <td>NaN</td>\n",
       "      <td>NaN</td>\n",
       "    </tr>\n",
       "    <tr>\n",
       "      <th>3</th>\n",
       "      <td>NaN</td>\n",
       "      <td>7th_8th</td>\n",
       "      <td>Divorced</td>\n",
       "      <td>Machine_op_inspct</td>\n",
       "      <td>NaN</td>\n",
       "      <td>NaN</td>\n",
       "      <td>NaN</td>\n",
       "      <td>NaN</td>\n",
       "      <td>NaN</td>\n",
       "      <td>NaN</td>\n",
       "      <td>NaN</td>\n",
       "      <td>NaN</td>\n",
       "      <td>NaN</td>\n",
       "      <td>NaN</td>\n",
       "    </tr>\n",
       "    <tr>\n",
       "      <th>4</th>\n",
       "      <td>NaN</td>\n",
       "      <td>NaN</td>\n",
       "      <td>Separated</td>\n",
       "      <td>Prof_specialty</td>\n",
       "      <td>Own_child</td>\n",
       "      <td>NaN</td>\n",
       "      <td>NaN</td>\n",
       "      <td>NaN</td>\n",
       "      <td>NaN</td>\n",
       "      <td>NaN</td>\n",
       "      <td>NaN</td>\n",
       "      <td>NaN</td>\n",
       "      <td>NaN</td>\n",
       "      <td>NaN</td>\n",
       "    </tr>\n",
       "    <tr>\n",
       "      <th>...</th>\n",
       "      <td>...</td>\n",
       "      <td>...</td>\n",
       "      <td>...</td>\n",
       "      <td>...</td>\n",
       "      <td>...</td>\n",
       "      <td>...</td>\n",
       "      <td>...</td>\n",
       "      <td>...</td>\n",
       "      <td>...</td>\n",
       "      <td>...</td>\n",
       "      <td>...</td>\n",
       "      <td>...</td>\n",
       "      <td>...</td>\n",
       "      <td>...</td>\n",
       "    </tr>\n",
       "    <tr>\n",
       "      <th>3804</th>\n",
       "      <td>NaN</td>\n",
       "      <td>NaN</td>\n",
       "      <td>NaN</td>\n",
       "      <td>NaN</td>\n",
       "      <td>NaN</td>\n",
       "      <td>NaN</td>\n",
       "      <td>NaN</td>\n",
       "      <td>Laos</td>\n",
       "      <td>NaN</td>\n",
       "      <td>NaN</td>\n",
       "      <td>NaN</td>\n",
       "      <td>NaN</td>\n",
       "      <td>NaN</td>\n",
       "      <td>NaN</td>\n",
       "    </tr>\n",
       "    <tr>\n",
       "      <th>4460</th>\n",
       "      <td>NaN</td>\n",
       "      <td>NaN</td>\n",
       "      <td>NaN</td>\n",
       "      <td>NaN</td>\n",
       "      <td>NaN</td>\n",
       "      <td>NaN</td>\n",
       "      <td>NaN</td>\n",
       "      <td>Thailand</td>\n",
       "      <td>NaN</td>\n",
       "      <td>NaN</td>\n",
       "      <td>NaN</td>\n",
       "      <td>NaN</td>\n",
       "      <td>NaN</td>\n",
       "      <td>NaN</td>\n",
       "    </tr>\n",
       "    <tr>\n",
       "      <th>5581</th>\n",
       "      <td>NaN</td>\n",
       "      <td>NaN</td>\n",
       "      <td>NaN</td>\n",
       "      <td>NaN</td>\n",
       "      <td>NaN</td>\n",
       "      <td>NaN</td>\n",
       "      <td>NaN</td>\n",
       "      <td>Outlying_US(Guam_USVI_etc)</td>\n",
       "      <td>NaN</td>\n",
       "      <td>NaN</td>\n",
       "      <td>NaN</td>\n",
       "      <td>NaN</td>\n",
       "      <td>NaN</td>\n",
       "      <td>NaN</td>\n",
       "    </tr>\n",
       "    <tr>\n",
       "      <th>8874</th>\n",
       "      <td>Never_worked</td>\n",
       "      <td>NaN</td>\n",
       "      <td>NaN</td>\n",
       "      <td>NaN</td>\n",
       "      <td>NaN</td>\n",
       "      <td>NaN</td>\n",
       "      <td>NaN</td>\n",
       "      <td>NaN</td>\n",
       "      <td>NaN</td>\n",
       "      <td>NaN</td>\n",
       "      <td>NaN</td>\n",
       "      <td>NaN</td>\n",
       "      <td>NaN</td>\n",
       "      <td>NaN</td>\n",
       "    </tr>\n",
       "    <tr>\n",
       "      <th>0</th>\n",
       "      <td>Unknown</td>\n",
       "      <td>HS_grad</td>\n",
       "      <td>Widowed</td>\n",
       "      <td>Unknown</td>\n",
       "      <td>Not_in_family</td>\n",
       "      <td>White</td>\n",
       "      <td>Female</td>\n",
       "      <td>United_States</td>\n",
       "      <td>90.0</td>\n",
       "      <td>77053.0</td>\n",
       "      <td>9.0</td>\n",
       "      <td>0.0</td>\n",
       "      <td>4356.0</td>\n",
       "      <td>40.0</td>\n",
       "    </tr>\n",
       "  </tbody>\n",
       "</table>\n",
       "<p>73 rows × 14 columns</p>\n",
       "</div>"
      ],
      "text/plain": [
       "         workclass     education marital_status         occupation  \\\n",
       "0          Unknown       HS_grad        Widowed            Unknown   \n",
       "1          Private           NaN            NaN    Exec_managerial   \n",
       "2              NaN  Some_college            NaN                NaN   \n",
       "3              NaN       7th_8th       Divorced  Machine_op_inspct   \n",
       "4              NaN           NaN      Separated     Prof_specialty   \n",
       "...            ...           ...            ...                ...   \n",
       "3804           NaN           NaN            NaN                NaN   \n",
       "4460           NaN           NaN            NaN                NaN   \n",
       "5581           NaN           NaN            NaN                NaN   \n",
       "8874  Never_worked           NaN            NaN                NaN   \n",
       "0          Unknown       HS_grad        Widowed            Unknown   \n",
       "\n",
       "       relationship   race     sex              native_country   age   fnlwgt  \\\n",
       "0     Not_in_family  White  Female               United_States   NaN      NaN   \n",
       "1               NaN    NaN     NaN                         NaN   NaN      NaN   \n",
       "2         Unmarried  Black     NaN                         NaN   NaN      NaN   \n",
       "3               NaN    NaN     NaN                         NaN   NaN      NaN   \n",
       "4         Own_child    NaN     NaN                         NaN   NaN      NaN   \n",
       "...             ...    ...     ...                         ...   ...      ...   \n",
       "3804            NaN    NaN     NaN                        Laos   NaN      NaN   \n",
       "4460            NaN    NaN     NaN                    Thailand   NaN      NaN   \n",
       "5581            NaN    NaN     NaN  Outlying_US(Guam_USVI_etc)   NaN      NaN   \n",
       "8874            NaN    NaN     NaN                         NaN   NaN      NaN   \n",
       "0     Not_in_family  White  Female               United_States  90.0  77053.0   \n",
       "\n",
       "      education_num  capital_gain  capital_loss  hours_per_week  \n",
       "0               NaN           NaN           NaN             NaN  \n",
       "1               NaN           NaN           NaN             NaN  \n",
       "2               NaN           NaN           NaN             NaN  \n",
       "3               NaN           NaN           NaN             NaN  \n",
       "4               NaN           NaN           NaN             NaN  \n",
       "...             ...           ...           ...             ...  \n",
       "3804            NaN           NaN           NaN             NaN  \n",
       "4460            NaN           NaN           NaN             NaN  \n",
       "5581            NaN           NaN           NaN             NaN  \n",
       "8874            NaN           NaN           NaN             NaN  \n",
       "0               9.0           0.0        4356.0            40.0  \n",
       "\n",
       "[73 rows x 14 columns]"
      ]
     },
     "execution_count": 4,
     "metadata": {},
     "output_type": "execute_result"
    }
   ],
   "source": [
    "cat = [var for var in X.columns if X[var].dtype == 'O']\n",
    "to_fill = []\n",
    "for col in X[cat]:\n",
    "    to_fill.append(X[col].drop_duplicates())\n",
    "semi_final = pd.DataFrame(to_fill).T\n",
    "base = X[:1]\n",
    "ref_df = pd.concat([semi_final, base], axis = 0)\n",
    "ref_df"
   ]
  },
  {
   "cell_type": "code",
   "execution_count": 93,
   "id": "a0e219b2-0093-4a47-8e60-8cf0a9605615",
   "metadata": {},
   "outputs": [
    {
     "name": "stdout",
     "output_type": "stream",
     "text": [
      "workclass ['Unknown' 'Private' 'State_gov' 'Federal_gov' 'Self_emp_not_inc'\n",
      " 'Self_emp_inc' 'Local_gov' 'Without_pay' 'Never_worked'] total 9\n",
      "***********************************\n",
      "education ['HS_grad' 'Some_college' '7th_8th' '10th' 'Doctorate' 'Prof_school'\n",
      " 'Bachelors' 'Masters' '11th' 'Assoc_acdm' 'Assoc_voc' '1st_4th' '5th_6th'\n",
      " '12th' '9th' 'Preschool'] total 16\n",
      "***********************************\n",
      "marital_status ['Widowed' 'Divorced' 'Separated' 'Never_married' 'Married_civ_spouse'\n",
      " 'Married_spouse_absent' 'Married_AF_spouse'] total 7\n",
      "***********************************\n",
      "occupation ['Unknown' 'Exec_managerial' 'Machine_op_inspct' 'Prof_specialty'\n",
      " 'Other_service' 'Adm_clerical' 'Craft_repair' 'Transport_moving'\n",
      " 'Handlers_cleaners' 'Sales' 'Farming_fishing' 'Tech_support'\n",
      " 'Protective_serv' 'Armed_Forces' 'Priv_house_serv'] total 15\n",
      "***********************************\n",
      "relationship ['Not_in_family' 'Unmarried' 'Own_child' 'Other_relative' 'Husband' 'Wife'] total 6\n",
      "***********************************\n",
      "race ['White' 'Black' 'Asian_Pac_Islander' 'Other' 'Amer_Indian_Eskimo'] total 5\n",
      "***********************************\n",
      "sex ['Female' 'Male'] total 2\n",
      "***********************************\n",
      "native_country ['United_States' 'Unknown' 'Mexico' 'Greece' 'Vietnam' 'China' 'Taiwan'\n",
      " 'India' 'Philippines' 'Trinadad&Tobago' 'Canada' 'South'\n",
      " 'Holand_Netherlands' 'Puerto_Rico' 'Poland' 'Iran' 'England' 'Germany'\n",
      " 'Italy' 'Japan' 'Hong' 'Honduras' 'Cuba' 'Ireland' 'Cambodia' 'Peru'\n",
      " 'Nicaragua' 'Dominican_Republic' 'Haiti' 'El_Salvador' 'Hungary'\n",
      " 'Columbia' 'Guatemala' 'Jamaica' 'Ecuador' 'France' 'Yugoslavia'\n",
      " 'Scotland' 'Portugal' 'Laos' 'Thailand' 'Outlying_US(Guam_USVI_etc)'] total 42\n",
      "***********************************\n"
     ]
    }
   ],
   "source": [
    "for i in df[cat]:\n",
    "    print(i, df[i].unique(),'total',df[i].nunique())\n",
    "    print('***********************************')"
   ]
  },
  {
   "cell_type": "code",
   "execution_count": 5,
   "id": "a1d45652-3099-43b5-aefb-1f860eae3d59",
   "metadata": {},
   "outputs": [],
   "source": [
    "ref_df.to_csv('ref.csv')"
   ]
  },
  {
   "cell_type": "code",
   "execution_count": 6,
   "id": "8f5beb1c-57da-41a0-a3ad-7497e55cf0d1",
   "metadata": {},
   "outputs": [],
   "source": [
    "X = pd.get_dummies(X)\n",
    "X_train, X_test, y_train, y_test = train_test_split(X,y, random_state = 42, stratify=y)\n",
    "sc = StandardScaler()\n",
    "X_train = sc.fit_transform(X_train)\n",
    "X_test = sc.transform(X_test)"
   ]
  },
  {
   "cell_type": "code",
   "execution_count": 7,
   "id": "d687ced9-cde7-4389-a43c-2be417f4e0d1",
   "metadata": {},
   "outputs": [],
   "source": [
    "# random test\n",
    "clf = xgb.XGBClassifier(use_label_encoder=False)\n",
    "from sklearn.metrics import classification_report, confusion_matrix"
   ]
  },
  {
   "cell_type": "code",
   "execution_count": 8,
   "id": "b224f26e-a79a-4741-8458-a0cb2b814fbf",
   "metadata": {},
   "outputs": [],
   "source": [
    "def runner(model):\n",
    "    model.fit(X_train, y_train)\n",
    "    preds = model.predict(X_test)\n",
    "    cm = confusion_matrix(y_test, preds)\n",
    "    print(cm)\n",
    "    print(classification_report(y_test, preds))"
   ]
  },
  {
   "cell_type": "code",
   "execution_count": 9,
   "id": "0e11b088-cff7-48b1-b468-ca577552775a",
   "metadata": {},
   "outputs": [
    {
     "name": "stdout",
     "output_type": "stream",
     "text": [
      "[09:45:03] WARNING: C:/Users/Administrator/workspace/xgboost-win64_release_1.3.0/src/learner.cc:1061: Starting in XGBoost 1.3.0, the default evaluation metric used with the objective 'binary:logistic' was changed from 'error' to 'logloss'. Explicitly set eval_metric if you'd like to restore the old behavior.\n",
      "[[5804  377]\n",
      " [ 677 1283]]\n",
      "              precision    recall  f1-score   support\n",
      "\n",
      "           0       0.90      0.94      0.92      6181\n",
      "           1       0.77      0.65      0.71      1960\n",
      "\n",
      "    accuracy                           0.87      8141\n",
      "   macro avg       0.83      0.80      0.81      8141\n",
      "weighted avg       0.87      0.87      0.87      8141\n",
      "\n"
     ]
    }
   ],
   "source": [
    "runner(clf)"
   ]
  },
  {
   "cell_type": "code",
   "execution_count": 23,
   "id": "6dbbe62f-b88d-487c-b5cd-2f17b22ab8ba",
   "metadata": {},
   "outputs": [],
   "source": [
    "params = {\n",
    "    'n_estimators': [100,90],\n",
    "    'max_depth': [5,6,4],\n",
    "    'learning_rate' : [0.1,0.2,0.3],\n",
    "    'colsample_bytree' : [1,0.9,0.8],\n",
    "    'gamma' : [0,0.25],\n",
    "    'scale_pos_weight': [25,0]\n",
    "}"
   ]
  },
  {
   "cell_type": "code",
   "execution_count": 24,
   "id": "e1337657-9c29-4df4-a1a9-8bddbbd6a6f8",
   "metadata": {},
   "outputs": [],
   "source": [
    "param_search = GridSearchCV( estimator = xgb.XGBClassifier(), param_grid= params, cv = 3, n_jobs = -1,\n",
    "                            scoring = 'accuracy',verbose = 1)"
   ]
  },
  {
   "cell_type": "code",
   "execution_count": 25,
   "id": "bc0bb59e-07d8-4c2d-8112-74ef1a3c7dfb",
   "metadata": {
    "collapsed": true,
    "jupyter": {
     "outputs_hidden": true
    },
    "tags": []
   },
   "outputs": [
    {
     "name": "stdout",
     "output_type": "stream",
     "text": [
      "Fitting 3 folds for each of 216 candidates, totalling 648 fits\n"
     ]
    },
    {
     "name": "stderr",
     "output_type": "stream",
     "text": [
      "C:\\Users\\Hugo\\anaconda3\\lib\\site-packages\\xgboost\\sklearn.py:892: UserWarning: The use of label encoder in XGBClassifier is deprecated and will be removed in a future release. To remove this warning, do the following: 1) Pass option use_label_encoder=False when constructing XGBClassifier object; and 2) Encode your labels (y) as integers starting with 0, i.e. 0, 1, 2, ..., [num_class - 1].\n",
      "  warnings.warn(label_encoder_deprecation_msg, UserWarning)\n"
     ]
    },
    {
     "name": "stdout",
     "output_type": "stream",
     "text": [
      "[18:40:24] WARNING: C:/Users/Administrator/workspace/xgboost-win64_release_1.3.0/src/learner.cc:1061: Starting in XGBoost 1.3.0, the default evaluation metric used with the objective 'binary:logistic' was changed from 'error' to 'logloss'. Explicitly set eval_metric if you'd like to restore the old behavior.\n"
     ]
    },
    {
     "data": {
      "text/plain": [
       "GridSearchCV(cv=3,\n",
       "             estimator=XGBClassifier(base_score=None, booster=None,\n",
       "                                     colsample_bylevel=None,\n",
       "                                     colsample_bynode=None,\n",
       "                                     colsample_bytree=None, gamma=None,\n",
       "                                     gpu_id=None, importance_type='gain',\n",
       "                                     interaction_constraints=None,\n",
       "                                     learning_rate=None, max_delta_step=None,\n",
       "                                     max_depth=None, min_child_weight=None,\n",
       "                                     missing=nan, monotone_constraints=None,\n",
       "                                     n_estimators=100, n_jobs...\n",
       "                                     num_parallel_tree=None, random_state=None,\n",
       "                                     reg_alpha=None, reg_lambda=None,\n",
       "                                     scale_pos_weight=None, subsample=None,\n",
       "                                     tree_method=None, validate_parameters=None,\n",
       "                                     verbosity=None),\n",
       "             n_jobs=-1,\n",
       "             param_grid={'colsample_bytree': [1, 0.9, 0.8], 'gamma': [0, 0.25],\n",
       "                         'learning_rate': [0.1, 0.2, 0.3],\n",
       "                         'max_depth': [5, 6, 4], 'n_estimators': [100, 90],\n",
       "                         'scale_pos_weight': [25, 0]},\n",
       "             scoring='accuracy', verbose=1)"
      ]
     },
     "execution_count": 25,
     "metadata": {},
     "output_type": "execute_result"
    }
   ],
   "source": [
    "param_search.fit(X_train, y_train)"
   ]
  },
  {
   "cell_type": "code",
   "execution_count": 26,
   "id": "f45d4598-a7d4-4136-9df0-fe2c8502aae8",
   "metadata": {},
   "outputs": [
    {
     "data": {
      "text/plain": [
       "{'colsample_bytree': 1,\n",
       " 'gamma': 0,\n",
       " 'learning_rate': 0.1,\n",
       " 'max_depth': 5,\n",
       " 'n_estimators': 100,\n",
       " 'scale_pos_weight': 0}"
      ]
     },
     "execution_count": 26,
     "metadata": {},
     "output_type": "execute_result"
    }
   ],
   "source": [
    "param_search.best_params_"
   ]
  },
  {
   "cell_type": "code",
   "execution_count": 27,
   "id": "e8d32a4b-9e8b-499b-b09e-994cf276d961",
   "metadata": {},
   "outputs": [],
   "source": [
    "clf = xgb.XGBClassifier(use_label_encoder=False, colsample_bytree = 1, gamma= 0, learning_rate = 0.1, max_depth = 5,\n",
    "                       n_estimators = 100, scale_pos_weight =0)"
   ]
  },
  {
   "cell_type": "code",
   "execution_count": 28,
   "id": "ed02f924-5ad5-4dc4-818f-c465163bdfea",
   "metadata": {
    "collapsed": true,
    "jupyter": {
     "outputs_hidden": true
    },
    "tags": []
   },
   "outputs": [
    {
     "name": "stdout",
     "output_type": "stream",
     "text": [
      "[18:47:23] WARNING: C:/Users/Administrator/workspace/xgboost-win64_release_1.3.0/src/learner.cc:1061: Starting in XGBoost 1.3.0, the default evaluation metric used with the objective 'binary:logistic' was changed from 'error' to 'logloss'. Explicitly set eval_metric if you'd like to restore the old behavior.\n",
      "[[6181    0]\n",
      " [1960    0]]\n",
      "              precision    recall  f1-score   support\n",
      "\n",
      "           0       0.76      1.00      0.86      6181\n",
      "           1       0.00      0.00      0.00      1960\n",
      "\n",
      "    accuracy                           0.76      8141\n",
      "   macro avg       0.38      0.50      0.43      8141\n",
      "weighted avg       0.58      0.76      0.66      8141\n",
      "\n"
     ]
    },
    {
     "name": "stderr",
     "output_type": "stream",
     "text": [
      "C:\\Users\\Hugo\\anaconda3\\lib\\site-packages\\sklearn\\metrics\\_classification.py:1245: UndefinedMetricWarning: Precision and F-score are ill-defined and being set to 0.0 in labels with no predicted samples. Use `zero_division` parameter to control this behavior.\n",
      "  _warn_prf(average, modifier, msg_start, len(result))\n",
      "C:\\Users\\Hugo\\anaconda3\\lib\\site-packages\\sklearn\\metrics\\_classification.py:1245: UndefinedMetricWarning: Precision and F-score are ill-defined and being set to 0.0 in labels with no predicted samples. Use `zero_division` parameter to control this behavior.\n",
      "  _warn_prf(average, modifier, msg_start, len(result))\n",
      "C:\\Users\\Hugo\\anaconda3\\lib\\site-packages\\sklearn\\metrics\\_classification.py:1245: UndefinedMetricWarning: Precision and F-score are ill-defined and being set to 0.0 in labels with no predicted samples. Use `zero_division` parameter to control this behavior.\n",
      "  _warn_prf(average, modifier, msg_start, len(result))\n"
     ]
    }
   ],
   "source": [
    "runner(clf)"
   ]
  },
  {
   "cell_type": "code",
   "execution_count": 10,
   "id": "4cfc8129-a1a2-4a5f-8f52-9eda6fb51b76",
   "metadata": {},
   "outputs": [],
   "source": [
    "over = RandomOverSampler()\n",
    "X_over , y_over = over.fit_sample(X, y)"
   ]
  },
  {
   "cell_type": "code",
   "execution_count": 11,
   "id": "88b2a276-ee3a-464f-a34a-0027a8ddd6f8",
   "metadata": {},
   "outputs": [],
   "source": [
    "X_train, X_test, y_train, y_test = train_test_split(X_over, y_over, random_state = 42, stratify=y_over)\n",
    "X_train = sc.fit_transform(X_train)\n",
    "X_test = sc.transform(X_test)"
   ]
  },
  {
   "cell_type": "code",
   "execution_count": 84,
   "id": "d32ecb7e-806b-4bfe-b4f6-2920a5af6baa",
   "metadata": {},
   "outputs": [],
   "source": [
    "clf = xgb.XGBClassifier(use_label_encoder=False, n_estimators = 700, learning_rate = 0.3)"
   ]
  },
  {
   "cell_type": "code",
   "execution_count": 85,
   "id": "d59b18a3-2010-4928-bcc5-bb766c3e65f7",
   "metadata": {},
   "outputs": [
    {
     "name": "stdout",
     "output_type": "stream",
     "text": [
      "[10:50:47] WARNING: C:/Users/Administrator/workspace/xgboost-win64_release_1.3.0/src/learner.cc:1061: Starting in XGBoost 1.3.0, the default evaluation metric used with the objective 'binary:logistic' was changed from 'error' to 'logloss'. Explicitly set eval_metric if you'd like to restore the old behavior.\n",
      "[[5393  787]\n",
      " [ 313 5867]]\n",
      "              precision    recall  f1-score   support\n",
      "\n",
      "           0       0.95      0.87      0.91      6180\n",
      "           1       0.88      0.95      0.91      6180\n",
      "\n",
      "    accuracy                           0.91     12360\n",
      "   macro avg       0.91      0.91      0.91     12360\n",
      "weighted avg       0.91      0.91      0.91     12360\n",
      "\n"
     ]
    }
   ],
   "source": [
    "runner(clf)"
   ]
  },
  {
   "cell_type": "code",
   "execution_count": null,
   "id": "82dc96d6-b5ab-42cc-8a7f-3e014c357957",
   "metadata": {},
   "outputs": [],
   "source": []
  },
  {
   "cell_type": "code",
   "execution_count": 14,
   "id": "e1ce963b-6d5d-4f8a-917e-167f272cd6b1",
   "metadata": {},
   "outputs": [],
   "source": [
    "from tensorflow import keras"
   ]
  },
  {
   "cell_type": "code",
   "execution_count": 69,
   "id": "3e3fc570-8bbd-4d51-bd66-5ac6d13af17a",
   "metadata": {},
   "outputs": [
    {
     "name": "stdout",
     "output_type": "stream",
     "text": [
      "Model: \"sequential_4\"\n",
      "_________________________________________________________________\n",
      "Layer (type)                 Output Shape              Param #   \n",
      "=================================================================\n",
      "dense_15 (Dense)             (None, 200)               21800     \n",
      "_________________________________________________________________\n",
      "dropout_4 (Dropout)          (None, 200)               0         \n",
      "_________________________________________________________________\n",
      "dense_16 (Dense)             (None, 100)               20100     \n",
      "_________________________________________________________________\n",
      "dense_17 (Dense)             (None, 50)                5050      \n",
      "_________________________________________________________________\n",
      "dense_18 (Dense)             (None, 25)                1275      \n",
      "_________________________________________________________________\n",
      "dense_19 (Dense)             (None, 1)                 26        \n",
      "=================================================================\n",
      "Total params: 48,251\n",
      "Trainable params: 48,251\n",
      "Non-trainable params: 0\n",
      "_________________________________________________________________\n"
     ]
    }
   ],
   "source": [
    "# creating the model \n",
    "ann = keras.models.Sequential([\n",
    "    keras.layers.Input(shape = X_train.shape[1], name= 'input_layer'),\n",
    "    keras.layers.Dense(units = 200, activation = 'relu'),\n",
    "    keras.layers.Dropout(0.1),\n",
    "    keras.layers.Dense(units = 100, activation = 'relu'),\n",
    "    keras.layers.Dense(units = 50, activation = 'sigmoid'),\n",
    "    keras.layers.Dense(units = 25, activation = 'sigmoid'),\n",
    "    keras.layers.Dense(units = 1, activation= 'sigmoid')\n",
    "])\n",
    "ann.summary()"
   ]
  },
  {
   "cell_type": "code",
   "execution_count": 70,
   "id": "83b1ac82-1d2c-4ad4-958c-2b949f4b222b",
   "metadata": {},
   "outputs": [],
   "source": [
    "ann.compile(loss= 'binary_crossentropy', metrics = ['accuracy'], optimizer = 'adam')\n",
    "s_best = keras.callbacks.ModelCheckpoint('best.h5', save_best_only=True)\n",
    "e_stop = keras.callbacks.EarlyStopping(patience= 15, restore_best_weights=True)"
   ]
  },
  {
   "cell_type": "code",
   "execution_count": 71,
   "id": "f1c8b8b6-328e-4fa1-b963-6f36a03b9890",
   "metadata": {
    "collapsed": true,
    "jupyter": {
     "outputs_hidden": true
    },
    "tags": []
   },
   "outputs": [
    {
     "name": "stdout",
     "output_type": "stream",
     "text": [
      "Epoch 1/200\n",
      "1043/1043 [==============================] - 4s 3ms/step - loss: 0.4142 - accuracy: 0.8112 - val_loss: 0.3717 - val_accuracy: 0.8320\n",
      "Epoch 2/200\n",
      "1043/1043 [==============================] - 3s 3ms/step - loss: 0.3657 - accuracy: 0.8319 - val_loss: 0.3580 - val_accuracy: 0.8382\n",
      "Epoch 3/200\n",
      "1043/1043 [==============================] - 3s 3ms/step - loss: 0.3515 - accuracy: 0.8385 - val_loss: 0.3518 - val_accuracy: 0.8441\n",
      "Epoch 4/200\n",
      "1043/1043 [==============================] - 3s 3ms/step - loss: 0.3407 - accuracy: 0.8436 - val_loss: 0.3442 - val_accuracy: 0.8468\n",
      "Epoch 5/200\n",
      "1043/1043 [==============================] - 3s 3ms/step - loss: 0.3316 - accuracy: 0.8477 - val_loss: 0.3384 - val_accuracy: 0.8484\n",
      "Epoch 6/200\n",
      "1043/1043 [==============================] - 4s 3ms/step - loss: 0.3249 - accuracy: 0.8500 - val_loss: 0.3341 - val_accuracy: 0.8482\n",
      "Epoch 7/200\n",
      "1043/1043 [==============================] - 3s 3ms/step - loss: 0.3169 - accuracy: 0.8543 - val_loss: 0.3316 - val_accuracy: 0.8509\n",
      "Epoch 8/200\n",
      "1043/1043 [==============================] - 4s 4ms/step - loss: 0.3108 - accuracy: 0.8591 - val_loss: 0.3307 - val_accuracy: 0.8549\n",
      "Epoch 9/200\n",
      "1043/1043 [==============================] - 5s 4ms/step - loss: 0.3017 - accuracy: 0.8616 - val_loss: 0.3260 - val_accuracy: 0.8519\n",
      "Epoch 10/200\n",
      "1043/1043 [==============================] - 5s 5ms/step - loss: 0.2948 - accuracy: 0.8661 - val_loss: 0.3232 - val_accuracy: 0.8557\n",
      "Epoch 11/200\n",
      "1043/1043 [==============================] - 5s 5ms/step - loss: 0.2885 - accuracy: 0.8695 - val_loss: 0.3264 - val_accuracy: 0.8571\n",
      "Epoch 12/200\n",
      "1043/1043 [==============================] - 5s 5ms/step - loss: 0.2834 - accuracy: 0.8727 - val_loss: 0.3189 - val_accuracy: 0.8579accuracy: \n",
      "Epoch 13/200\n",
      "1043/1043 [==============================] - 4s 4ms/step - loss: 0.2759 - accuracy: 0.8748 - val_loss: 0.3221 - val_accuracy: 0.8617\n",
      "Epoch 14/200\n",
      "1043/1043 [==============================] - 4s 4ms/step - loss: 0.2705 - accuracy: 0.8773 - val_loss: 0.3225 - val_accuracy: 0.8633\n",
      "Epoch 15/200\n",
      "1043/1043 [==============================] - 4s 4ms/step - loss: 0.2675 - accuracy: 0.8811 - val_loss: 0.3209 - val_accuracy: 0.8638\n",
      "Epoch 16/200\n",
      "1043/1043 [==============================] - 4s 4ms/step - loss: 0.2608 - accuracy: 0.8838 - val_loss: 0.3243 - val_accuracy: 0.8662\n",
      "Epoch 17/200\n",
      "1043/1043 [==============================] - 5s 5ms/step - loss: 0.2555 - accuracy: 0.8862 - val_loss: 0.3170 - val_accuracy: 0.8633\n",
      "Epoch 18/200\n",
      "1043/1043 [==============================] - 4s 4ms/step - loss: 0.2498 - accuracy: 0.8894 - val_loss: 0.3200 - val_accuracy: 0.8692\n",
      "Epoch 19/200\n",
      "1043/1043 [==============================] - 4s 4ms/step - loss: 0.2482 - accuracy: 0.8907 - val_loss: 0.3241 - val_accuracy: 0.8676\n",
      "Epoch 20/200\n",
      "1043/1043 [==============================] - 4s 4ms/step - loss: 0.2457 - accuracy: 0.8922 - val_loss: 0.3211 - val_accuracy: 0.8679\n",
      "Epoch 21/200\n",
      "1043/1043 [==============================] - 5s 5ms/step - loss: 0.2405 - accuracy: 0.8941 - val_loss: 0.3142 - val_accuracy: 0.8738\n",
      "Epoch 22/200\n",
      "1043/1043 [==============================] - 4s 4ms/step - loss: 0.2363 - accuracy: 0.8960 - val_loss: 0.3344 - val_accuracy: 0.8722\n",
      "Epoch 23/200\n",
      "1043/1043 [==============================] - 5s 5ms/step - loss: 0.2334 - accuracy: 0.8961 - val_loss: 0.3127 - val_accuracy: 0.8768\n",
      "Epoch 24/200\n",
      "1043/1043 [==============================] - 4s 4ms/step - loss: 0.2337 - accuracy: 0.8974 - val_loss: 0.3273 - val_accuracy: 0.8697\n",
      "Epoch 25/200\n",
      "1043/1043 [==============================] - 4s 4ms/step - loss: 0.2284 - accuracy: 0.8990 - val_loss: 0.3242 - val_accuracy: 0.8714\n",
      "Epoch 26/200\n",
      "1043/1043 [==============================] - 5s 4ms/step - loss: 0.2253 - accuracy: 0.9008 - val_loss: 0.3168 - val_accuracy: 0.8759\n",
      "Epoch 27/200\n",
      "1043/1043 [==============================] - 4s 4ms/step - loss: 0.2228 - accuracy: 0.9023 - val_loss: 0.3326 - val_accuracy: 0.8732\n",
      "Epoch 28/200\n",
      "1043/1043 [==============================] - 4s 4ms/step - loss: 0.2213 - accuracy: 0.9025 - val_loss: 0.3223 - val_accuracy: 0.8735\n",
      "Epoch 29/200\n",
      "1043/1043 [==============================] - 4s 4ms/step - loss: 0.2186 - accuracy: 0.9043 - val_loss: 0.3285 - val_accuracy: 0.8768\n",
      "Epoch 30/200\n",
      "1043/1043 [==============================] - 4s 4ms/step - loss: 0.2161 - accuracy: 0.9050 - val_loss: 0.3314 - val_accuracy: 0.8759\n",
      "Epoch 31/200\n",
      "1043/1043 [==============================] - 4s 4ms/step - loss: 0.2132 - accuracy: 0.9058 - val_loss: 0.3317 - val_accuracy: 0.8695\n",
      "Epoch 32/200\n",
      "1043/1043 [==============================] - 4s 4ms/step - loss: 0.2138 - accuracy: 0.9073 - val_loss: 0.3219 - val_accuracy: 0.8811\n",
      "Epoch 33/200\n",
      "1043/1043 [==============================] - 4s 4ms/step - loss: 0.2101 - accuracy: 0.9082 - val_loss: 0.3139 - val_accuracy: 0.8797\n",
      "Epoch 34/200\n",
      "1043/1043 [==============================] - 4s 4ms/step - loss: 0.2080 - accuracy: 0.9096 - val_loss: 0.3233 - val_accuracy: 0.8784\n",
      "Epoch 35/200\n",
      "1043/1043 [==============================] - 4s 4ms/step - loss: 0.2054 - accuracy: 0.9114 - val_loss: 0.3228 - val_accuracy: 0.8816\n",
      "Epoch 36/200\n",
      "1043/1043 [==============================] - 4s 4ms/step - loss: 0.2046 - accuracy: 0.9095 - val_loss: 0.3279 - val_accuracy: 0.8781\n",
      "Epoch 37/200\n",
      "1043/1043 [==============================] - 4s 4ms/step - loss: 0.2017 - accuracy: 0.9127 - val_loss: 0.3276 - val_accuracy: 0.8797\n",
      "Epoch 38/200\n",
      "1043/1043 [==============================] - 5s 5ms/step - loss: 0.1998 - accuracy: 0.9140 - val_loss: 0.3315 - val_accuracy: 0.8808\n"
     ]
    },
    {
     "data": {
      "text/plain": [
       "<tensorflow.python.keras.callbacks.History at 0x238ecb554c0>"
      ]
     },
     "execution_count": 71,
     "metadata": {},
     "output_type": "execute_result"
    }
   ],
   "source": [
    "ann.fit(X_train, y_train, validation_split=0.1, epochs = 200, verbose = 1, callbacks=[s_best, e_stop], batch_size = 32)"
   ]
  },
  {
   "cell_type": "code",
   "execution_count": 72,
   "id": "010296d7-8671-4104-a596-42b255c4301a",
   "metadata": {},
   "outputs": [
    {
     "name": "stdout",
     "output_type": "stream",
     "text": [
      "387/387 [==============================] - 1s 2ms/step - loss: 0.3268 - accuracy: 0.8654\n"
     ]
    },
    {
     "data": {
      "text/plain": [
       "[0.3268395662307739, 0.8653721809387207]"
      ]
     },
     "execution_count": 72,
     "metadata": {},
     "output_type": "execute_result"
    }
   ],
   "source": [
    "ann.evaluate(X_test, y_test)"
   ]
  },
  {
   "cell_type": "code",
   "execution_count": 73,
   "id": "3514cad2-ea42-4f58-a345-abc199383883",
   "metadata": {},
   "outputs": [
    {
     "data": {
      "text/plain": [
       "array([[5107, 1073],\n",
       "       [ 591, 5589]], dtype=int64)"
      ]
     },
     "execution_count": 73,
     "metadata": {},
     "output_type": "execute_result"
    }
   ],
   "source": [
    "confusion_matrix(y_test,ann.predict_classes(X_test))"
   ]
  },
  {
   "cell_type": "code",
   "execution_count": 74,
   "id": "37671998-59a7-4142-bc2a-7d6a70297f0b",
   "metadata": {},
   "outputs": [
    {
     "name": "stdout",
     "output_type": "stream",
     "text": [
      "              precision    recall  f1-score   support\n",
      "\n",
      "           0       0.90      0.83      0.86      6180\n",
      "           1       0.84      0.90      0.87      6180\n",
      "\n",
      "    accuracy                           0.87     12360\n",
      "   macro avg       0.87      0.87      0.87     12360\n",
      "weighted avg       0.87      0.87      0.87     12360\n",
      "\n"
     ]
    }
   ],
   "source": [
    "print(classification_report(y_test,ann.predict_classes(X_test)))"
   ]
  },
  {
   "cell_type": "code",
   "execution_count": 86,
   "id": "970990c8-79e0-4ba7-9ecc-f495ee36b109",
   "metadata": {},
   "outputs": [],
   "source": [
    "import pickle\n",
    "with open('xgb_adult_income.pkl','wb') as h:\n",
    "    pickle.dump(clf, h)"
   ]
  },
  {
   "cell_type": "code",
   "execution_count": null,
   "id": "231fb9a8-c0ed-4d00-8418-70532c4bbec0",
   "metadata": {},
   "outputs": [],
   "source": []
  }
 ],
 "metadata": {
  "kernelspec": {
   "display_name": "Python 3",
   "language": "python",
   "name": "python3"
  },
  "language_info": {
   "codemirror_mode": {
    "name": "ipython",
    "version": 3
   },
   "file_extension": ".py",
   "mimetype": "text/x-python",
   "name": "python",
   "nbconvert_exporter": "python",
   "pygments_lexer": "ipython3",
   "version": "3.8.8"
  }
 },
 "nbformat": 4,
 "nbformat_minor": 5
}
